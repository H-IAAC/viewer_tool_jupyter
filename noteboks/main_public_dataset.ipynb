{
 "cells": [
  {
   "cell_type": "code",
   "execution_count": 1,
   "id": "46f6a554-a32b-4e4b-af2d-29ab41f8fc9b",
   "metadata": {},
   "outputs": [
    {
     "name": "stderr",
     "output_type": "stream",
     "text": [
      "/home/amparomunoz/VIEWWER_2023/viewer_tool_jupyter/noteboks/../librepo/layouts.py:3: UserWarning: \n",
      "The dash_html_components package is deprecated. Please replace\n",
      "`import dash_html_components as html` with `from dash import html`\n",
      "  import dash_html_components as html\n"
     ]
    }
   ],
   "source": [
    "REPO_ROOT_DIR=\"../\"\n",
    "import sys,os\n",
    "sys.path.append(os.path.dirname(REPO_ROOT_DIR))\n",
    "import pandas as pd\n",
    "from librepo.controller import Controller\n",
    "from librepo.dashboard import DashboardApp\n",
    "from librepo.dinamic_graph import LinearPlot\n",
    "from librepo.layouts import HorizontalLayout\n",
    "from librepo.video import VideoPlayer"
   ]
  },
  {
   "cell_type": "code",
   "execution_count": 2,
   "id": "38a79aab-6dde-4fe7-839a-02913396bfea",
   "metadata": {},
   "outputs": [
    {
     "name": "stdout",
     "output_type": "stream",
     "text": [
      "Requirement already satisfied: dash_bootstrap_components in /home/amparomunoz/.local/lib/python3.8/site-packages (1.5.0)\n",
      "Requirement already satisfied: dash>=2.0.0 in /home/amparomunoz/.local/lib/python3.8/site-packages (from dash_bootstrap_components) (2.11.1)\n",
      "Requirement already satisfied: dash-html-components==2.0.0 in /home/amparomunoz/.local/lib/python3.8/site-packages (from dash>=2.0.0->dash_bootstrap_components) (2.0.0)\n",
      "Requirement already satisfied: nest-asyncio in /home/amparomunoz/.local/lib/python3.8/site-packages (from dash>=2.0.0->dash_bootstrap_components) (1.5.7)\n",
      "Requirement already satisfied: Werkzeug<2.3.0 in /home/amparomunoz/.local/lib/python3.8/site-packages (from dash>=2.0.0->dash_bootstrap_components) (2.2.3)\n",
      "Requirement already satisfied: typing-extensions>=4.1.1 in /home/amparomunoz/.local/lib/python3.8/site-packages (from dash>=2.0.0->dash_bootstrap_components) (4.7.1)\n",
      "Requirement already satisfied: Flask<2.3.0,>=1.0.4 in /home/amparomunoz/.local/lib/python3.8/site-packages (from dash>=2.0.0->dash_bootstrap_components) (2.2.5)\n",
      "Requirement already satisfied: dash-table==5.0.0 in /home/amparomunoz/.local/lib/python3.8/site-packages (from dash>=2.0.0->dash_bootstrap_components) (5.0.0)\n",
      "Requirement already satisfied: requests in /home/amparomunoz/.local/lib/python3.8/site-packages (from dash>=2.0.0->dash_bootstrap_components) (2.31.0)\n",
      "Requirement already satisfied: retrying in /home/amparomunoz/.local/lib/python3.8/site-packages (from dash>=2.0.0->dash_bootstrap_components) (1.3.4)\n",
      "Requirement already satisfied: ansi2html in /home/amparomunoz/.local/lib/python3.8/site-packages (from dash>=2.0.0->dash_bootstrap_components) (1.8.0)\n",
      "Requirement already satisfied: plotly>=5.0.0 in /home/amparomunoz/.local/lib/python3.8/site-packages (from dash>=2.0.0->dash_bootstrap_components) (5.15.0)\n",
      "Requirement already satisfied: dash-core-components==2.0.0 in /home/amparomunoz/.local/lib/python3.8/site-packages (from dash>=2.0.0->dash_bootstrap_components) (2.0.0)\n",
      "Requirement already satisfied: MarkupSafe>=2.1.1 in /home/amparomunoz/.local/lib/python3.8/site-packages (from Werkzeug<2.3.0->dash>=2.0.0->dash_bootstrap_components) (2.1.3)\n",
      "Requirement already satisfied: itsdangerous>=2.0 in /home/amparomunoz/.local/lib/python3.8/site-packages (from Flask<2.3.0,>=1.0.4->dash>=2.0.0->dash_bootstrap_components) (2.1.2)\n",
      "Requirement already satisfied: Jinja2>=3.0 in /home/amparomunoz/.local/lib/python3.8/site-packages (from Flask<2.3.0,>=1.0.4->dash>=2.0.0->dash_bootstrap_components) (3.1.2)\n",
      "Requirement already satisfied: click>=8.0 in /home/amparomunoz/.local/lib/python3.8/site-packages (from Flask<2.3.0,>=1.0.4->dash>=2.0.0->dash_bootstrap_components) (8.1.6)\n",
      "Requirement already satisfied: importlib-metadata>=3.6.0; python_version < \"3.10\" in /home/amparomunoz/.local/lib/python3.8/site-packages (from Flask<2.3.0,>=1.0.4->dash>=2.0.0->dash_bootstrap_components) (6.8.0)\n",
      "Requirement already satisfied: urllib3<3,>=1.21.1 in /home/amparomunoz/.local/lib/python3.8/site-packages (from requests->dash>=2.0.0->dash_bootstrap_components) (2.0.4)\n",
      "Requirement already satisfied: idna<4,>=2.5 in /home/amparomunoz/.local/lib/python3.8/site-packages (from requests->dash>=2.0.0->dash_bootstrap_components) (3.4)\n",
      "Requirement already satisfied: charset-normalizer<4,>=2 in /home/amparomunoz/.local/lib/python3.8/site-packages (from requests->dash>=2.0.0->dash_bootstrap_components) (3.2.0)\n",
      "Requirement already satisfied: certifi>=2017.4.17 in /home/amparomunoz/.local/lib/python3.8/site-packages (from requests->dash>=2.0.0->dash_bootstrap_components) (2023.7.22)\n",
      "Requirement already satisfied: six>=1.7.0 in /home/amparomunoz/.local/lib/python3.8/site-packages (from retrying->dash>=2.0.0->dash_bootstrap_components) (1.16.0)\n",
      "Requirement already satisfied: tenacity>=6.2.0 in /home/amparomunoz/.local/lib/python3.8/site-packages (from plotly>=5.0.0->dash>=2.0.0->dash_bootstrap_components) (8.2.2)\n",
      "Requirement already satisfied: packaging in /home/amparomunoz/.local/lib/python3.8/site-packages (from plotly>=5.0.0->dash>=2.0.0->dash_bootstrap_components) (23.1)\n",
      "Requirement already satisfied: zipp>=0.5 in /home/amparomunoz/.local/lib/python3.8/site-packages (from importlib-metadata>=3.6.0; python_version < \"3.10\"->Flask<2.3.0,>=1.0.4->dash>=2.0.0->dash_bootstrap_components) (3.16.2)\n",
      "Note: you may need to restart the kernel to use updated packages.\n"
     ]
    }
   ],
   "source": [
    "pip install dash_bootstrap_components"
   ]
  },
  {
   "cell_type": "code",
   "execution_count": 3,
   "id": "2ada93fd-4384-4f19-bbb6-90930289d346",
   "metadata": {},
   "outputs": [],
   "source": [
    "##### 1) BAIXAR OS ARQUIVOS\n",
    "    #-ir no noteebok download_files_unicamp.ipynb\n",
    "    # editar o experimento, usuario,atividade e executar\n",
    "    # os arquivos são salvos dentro da pasta data/experimento/usuario/atividade\n",
    "\n",
    "##### 2) leer os arquivos csv e acrecentar a fila sec\n"
   ]
  },
  {
   "cell_type": "code",
   "execution_count": 4,
   "id": "518d7b04-844e-4580-8893-bd71cbfca945",
   "metadata": {
    "scrolled": true
   },
   "outputs": [],
   "source": [
    "def read_csv_exp(csv_file_name):\n",
    "    df = pd.read_csv(csv_file_name)\n",
    "    df['VideoTimelapse']=[x-df['attr_time'][0] for x in df['attr_time']]\n",
    "    df['sec'] = [x / 1000 for x in df['VideoTimelapse']]\n",
    "    return df    "
   ]
  },
  {
   "cell_type": "code",
   "execution_count": 5,
   "id": "639c20b1-b7a1-4c54-890f-4a052daa9a75",
   "metadata": {},
   "outputs": [
    {
     "data": {
      "text/html": [
       "<div>\n",
       "<style scoped>\n",
       "    .dataframe tbody tr th:only-of-type {\n",
       "        vertical-align: middle;\n",
       "    }\n",
       "\n",
       "    .dataframe tbody tr th {\n",
       "        vertical-align: top;\n",
       "    }\n",
       "\n",
       "    .dataframe thead th {\n",
       "        text-align: right;\n",
       "    }\n",
       "</style>\n",
       "<table border=\"1\" class=\"dataframe\">\n",
       "  <thead>\n",
       "    <tr style=\"text-align: right;\">\n",
       "      <th></th>\n",
       "      <th>id</th>\n",
       "      <th>attr_time</th>\n",
       "      <th>attr_x</th>\n",
       "      <th>attr_y</th>\n",
       "      <th>attr_z</th>\n",
       "      <th>VideoTimelapse</th>\n",
       "      <th>sec</th>\n",
       "    </tr>\n",
       "  </thead>\n",
       "  <tbody>\n",
       "    <tr>\n",
       "      <th>0</th>\n",
       "      <td>1</td>\n",
       "      <td>1435993159405</td>\n",
       "      <td>-2.160767</td>\n",
       "      <td>9.400234</td>\n",
       "      <td>0.565032</td>\n",
       "      <td>0</td>\n",
       "      <td>0.000</td>\n",
       "    </tr>\n",
       "    <tr>\n",
       "      <th>1</th>\n",
       "      <td>2</td>\n",
       "      <td>1435993159425</td>\n",
       "      <td>-2.176928</td>\n",
       "      <td>9.395446</td>\n",
       "      <td>0.621295</td>\n",
       "      <td>20</td>\n",
       "      <td>0.020</td>\n",
       "    </tr>\n",
       "    <tr>\n",
       "      <th>2</th>\n",
       "      <td>3</td>\n",
       "      <td>1435993159443</td>\n",
       "      <td>-2.151190</td>\n",
       "      <td>9.382876</td>\n",
       "      <td>0.588974</td>\n",
       "      <td>38</td>\n",
       "      <td>0.038</td>\n",
       "    </tr>\n",
       "    <tr>\n",
       "      <th>3</th>\n",
       "      <td>4</td>\n",
       "      <td>1435993159463</td>\n",
       "      <td>-2.135029</td>\n",
       "      <td>9.319430</td>\n",
       "      <td>0.545878</td>\n",
       "      <td>58</td>\n",
       "      <td>0.058</td>\n",
       "    </tr>\n",
       "    <tr>\n",
       "      <th>4</th>\n",
       "      <td>5</td>\n",
       "      <td>1435993159483</td>\n",
       "      <td>-2.168548</td>\n",
       "      <td>9.306262</td>\n",
       "      <td>0.586579</td>\n",
       "      <td>78</td>\n",
       "      <td>0.078</td>\n",
       "    </tr>\n",
       "  </tbody>\n",
       "</table>\n",
       "</div>"
      ],
      "text/plain": [
       "   id      attr_time    attr_x    attr_y    attr_z  VideoTimelapse    sec\n",
       "0   1  1435993159405 -2.160767  9.400234  0.565032               0  0.000\n",
       "1   2  1435993159425 -2.176928  9.395446  0.621295              20  0.020\n",
       "2   3  1435993159443 -2.151190  9.382876  0.588974              38  0.038\n",
       "3   4  1435993159463 -2.135029  9.319430  0.545878              58  0.058\n",
       "4   5  1435993159483 -2.168548  9.306262  0.586579              78  0.078"
      ]
     },
     "execution_count": 5,
     "metadata": {},
     "output_type": "execute_result"
    }
   ],
   "source": [
    "plot_1_name='acc_walking_chest'\n",
    "csv_file_name = f'Data/public_dataset_acc_walking/{plot_1_name}.csv'\n",
    "data_plot_1=read_csv_exp(csv_file_name)\n",
    "data_plot_1.head()"
   ]
  },
  {
   "cell_type": "code",
   "execution_count": 6,
   "id": "4693ac65-bcb2-41bc-9e6d-926600c1c868",
   "metadata": {},
   "outputs": [
    {
     "data": {
      "text/html": [
       "<div>\n",
       "<style scoped>\n",
       "    .dataframe tbody tr th:only-of-type {\n",
       "        vertical-align: middle;\n",
       "    }\n",
       "\n",
       "    .dataframe tbody tr th {\n",
       "        vertical-align: top;\n",
       "    }\n",
       "\n",
       "    .dataframe thead th {\n",
       "        text-align: right;\n",
       "    }\n",
       "</style>\n",
       "<table border=\"1\" class=\"dataframe\">\n",
       "  <thead>\n",
       "    <tr style=\"text-align: right;\">\n",
       "      <th></th>\n",
       "      <th>id</th>\n",
       "      <th>attr_time</th>\n",
       "      <th>attr_x</th>\n",
       "      <th>attr_y</th>\n",
       "      <th>attr_z</th>\n",
       "      <th>VideoTimelapse</th>\n",
       "      <th>sec</th>\n",
       "    </tr>\n",
       "  </thead>\n",
       "  <tbody>\n",
       "    <tr>\n",
       "      <th>0</th>\n",
       "      <td>1</td>\n",
       "      <td>1435993159413</td>\n",
       "      <td>-7.56606</td>\n",
       "      <td>-6.39685</td>\n",
       "      <td>-1.008300</td>\n",
       "      <td>0</td>\n",
       "      <td>0.000</td>\n",
       "    </tr>\n",
       "    <tr>\n",
       "      <th>1</th>\n",
       "      <td>2</td>\n",
       "      <td>1435993159435</td>\n",
       "      <td>-7.57956</td>\n",
       "      <td>-6.42714</td>\n",
       "      <td>-0.989212</td>\n",
       "      <td>22</td>\n",
       "      <td>0.022</td>\n",
       "    </tr>\n",
       "    <tr>\n",
       "      <th>2</th>\n",
       "      <td>3</td>\n",
       "      <td>1435993159453</td>\n",
       "      <td>-7.61557</td>\n",
       "      <td>-6.38873</td>\n",
       "      <td>-0.979767</td>\n",
       "      <td>40</td>\n",
       "      <td>0.040</td>\n",
       "    </tr>\n",
       "    <tr>\n",
       "      <th>3</th>\n",
       "      <td>4</td>\n",
       "      <td>1435993159474</td>\n",
       "      <td>-7.59372</td>\n",
       "      <td>-6.34650</td>\n",
       "      <td>-1.026210</td>\n",
       "      <td>61</td>\n",
       "      <td>0.061</td>\n",
       "    </tr>\n",
       "    <tr>\n",
       "      <th>4</th>\n",
       "      <td>5</td>\n",
       "      <td>1435993159493</td>\n",
       "      <td>-7.56958</td>\n",
       "      <td>-6.37003</td>\n",
       "      <td>-1.013380</td>\n",
       "      <td>80</td>\n",
       "      <td>0.080</td>\n",
       "    </tr>\n",
       "  </tbody>\n",
       "</table>\n",
       "</div>"
      ],
      "text/plain": [
       "   id      attr_time   attr_x   attr_y    attr_z  VideoTimelapse    sec\n",
       "0   1  1435993159413 -7.56606 -6.39685 -1.008300               0  0.000\n",
       "1   2  1435993159435 -7.57956 -6.42714 -0.989212              22  0.022\n",
       "2   3  1435993159453 -7.61557 -6.38873 -0.979767              40  0.040\n",
       "3   4  1435993159474 -7.59372 -6.34650 -1.026210              61  0.061\n",
       "4   5  1435993159493 -7.56958 -6.37003 -1.013380              80  0.080"
      ]
     },
     "execution_count": 6,
     "metadata": {},
     "output_type": "execute_result"
    }
   ],
   "source": [
    "plot_2_name='acc_walking_forearm'\n",
    "csv_file_name = f'Data/public_dataset_acc_walking/{plot_2_name}.csv'\n",
    "data_plot_2=read_csv_exp(csv_file_name)\n",
    "data_plot_2.head()"
   ]
  },
  {
   "cell_type": "code",
   "execution_count": 7,
   "id": "de9e11f4-b7f8-4d97-8bf2-8f961971980c",
   "metadata": {},
   "outputs": [
    {
     "data": {
      "text/html": [
       "\n",
       "        <iframe\n",
       "            width=\"100%\"\n",
       "            height=\"650\"\n",
       "            src=\"http://127.0.0.1:8052/\"\n",
       "            frameborder=\"0\"\n",
       "            allowfullscreen\n",
       "            \n",
       "        ></iframe>\n",
       "        "
      ],
      "text/plain": [
       "<IPython.lib.display.IFrame at 0x7f1427de7f10>"
      ]
     },
     "metadata": {},
     "output_type": "display_data"
    }
   ],
   "source": [
    "app = DashboardApp()\n",
    "dir_video='Data/public_dataset_acc_walking/video_walking.webm'\n",
    "player = VideoPlayer(\n",
    "    app,\n",
    "    video_path=f'../noteboks/{dir_video}',\n",
    "    volume=0.0,\n",
    ")\n",
    "controller = Controller(app)\n",
    "controller.connectToVideo(player)\n",
    "\n",
    "plot_1 = LinearPlot(\n",
    "    app,\n",
    "    data_df=data_plot_1,\n",
    "    x_col=\"sec\",\n",
    "    y_cols=[\"attr_x\", \"attr_y\", \"attr_z\"],\n",
    "    max_points=500,\n",
    "    id=\"plot_1\",\n",
    "    title=plot_1_name,\n",
    ")\n",
    "\n",
    "plot_2 = LinearPlot(\n",
    "    app,\n",
    "    data_df=data_plot_2,\n",
    "    x_col=\"sec\",\n",
    "    y_cols=[\"attr_x\", \"attr_y\", \"attr_z\"],\n",
    "    max_points=500,\n",
    "    id=\"plot_2\",\n",
    "    title=plot_2_name,\n",
    ")\n",
    "\n",
    "controller.addGraph(plot_1)\n",
    "controller.addGraph(plot_2)\n",
    "\n",
    "horizontal_layout = HorizontalLayout()\n",
    "horizontal_layout.append(player)\n",
    "horizontal_layout.append(controller)\n",
    "\n",
    "app.add_component(horizontal_layout)\n",
    "\n",
    "app.run(port=8052)"
   ]
  },
  {
   "cell_type": "code",
   "execution_count": null,
   "id": "16daafc5-27d3-456e-a0c9-6ecd29a0673b",
   "metadata": {},
   "outputs": [],
   "source": []
  }
 ],
 "metadata": {
  "kernelspec": {
   "display_name": "Python 3 (ipykernel)",
   "language": "python",
   "name": "python3"
  },
  "language_info": {
   "codemirror_mode": {
    "name": "ipython",
    "version": 3
   },
   "file_extension": ".py",
   "mimetype": "text/x-python",
   "name": "python",
   "nbconvert_exporter": "python",
   "pygments_lexer": "ipython3",
   "version": "3.8.10"
  }
 },
 "nbformat": 4,
 "nbformat_minor": 5
}
