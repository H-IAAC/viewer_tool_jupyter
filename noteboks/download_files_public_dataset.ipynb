{
 "cells": [
  {
   "cell_type": "code",
   "execution_count": 1,
   "id": "2d144c7e-83c6-4df3-9697-ce8a87a98538",
   "metadata": {},
   "outputs": [],
   "source": [
    "##  entrar no site ver o video e os arquivos \n",
    "## https://www.uni-mannheim.de/dws/research/projects/activity-recognition/dataset/dataset-realworld/s1/ "
   ]
  },
  {
   "cell_type": "code",
   "execution_count": 8,
   "id": "587c1460-7dbb-4464-af3f-8e89b14d12b8",
   "metadata": {},
   "outputs": [
    {
     "name": "stdout",
     "output_type": "stream",
     "text": [
      "--2023-11-27 19:21:31--  http://wifo5-14.informatik.uni-mannheim.de/sensor/dataset/realworld2016/proband1/videos/video_walking.webm\n",
      "Resolving wifo5-14.informatik.uni-mannheim.de (wifo5-14.informatik.uni-mannheim.de)... 134.155.95.56\n",
      "Connecting to wifo5-14.informatik.uni-mannheim.de (wifo5-14.informatik.uni-mannheim.de)|134.155.95.56|:80... connected.\n",
      "HTTP request sent, awaiting response... 200 OK\n",
      "Length: 164761268 (157M) [video/webm]\n",
      "Saving to: ‘Data/public_dataset_acc_walking/video_walking.webm’\n",
      "\n",
      "video_walking.webm  100%[===================>] 157,13M   567KB/s    in 4m 45s  \n",
      "\n",
      "2023-11-27 19:26:18 (564 KB/s) - ‘Data/public_dataset_acc_walking/video_walking.webm’ saved [164761268/164761268]\n",
      "\n"
     ]
    }
   ],
   "source": [
    "!wget -P Data/public_dataset_acc_walking http://wifo5-14.informatik.uni-mannheim.de/sensor/dataset/realworld2016/proband1/videos/video_walking.webm\n"
   ]
  },
  {
   "cell_type": "code",
   "execution_count": 3,
   "id": "056e499f",
   "metadata": {},
   "outputs": [
    {
     "name": "stdout",
     "output_type": "stream",
     "text": [
      "--2023-11-27 19:09:40--  https://www.uni-mannheim.de/media/Einrichtungen/dws/Files_Research/Projects/sensor/realworld/s1/data/acc_walking_csv.zip\n",
      "Resolving www.uni-mannheim.de (www.uni-mannheim.de)... 2001:7c0:2900:64::869b:6501, 134.155.101.1\n",
      "Connecting to www.uni-mannheim.de (www.uni-mannheim.de)|2001:7c0:2900:64::869b:6501|:443... connected.\n",
      "HTTP request sent, awaiting response... 200 OK\n",
      "Length: 4273940 (4,1M) [application/zip]\n",
      "Saving to: ‘Data/acc_walking_csv.zip’\n",
      "\n",
      "acc_walking_csv.zip 100%[===================>]   4,08M   556KB/s    in 8,4s    \n",
      "\n",
      "2023-11-27 19:09:49 (498 KB/s) - ‘Data/acc_walking_csv.zip’ saved [4273940/4273940]\n",
      "\n"
     ]
    }
   ],
   "source": [
    "\n",
    "!wget -P Data/  https://www.uni-mannheim.de/media/Einrichtungen/dws/Files_Research/Projects/sensor/realworld/s1/data/acc_walking_csv.zip"
   ]
  },
  {
   "cell_type": "code",
   "execution_count": 7,
   "id": "08cf8c4e-10f9-4668-9bd0-1a9b784c0b30",
   "metadata": {},
   "outputs": [
    {
     "name": "stdout",
     "output_type": "stream",
     "text": [
      "Archive:  Data/acc_walking_csv.zip\n",
      "  inflating: Data/public_dataset_acc_walking/acc_walking_chest.csv  \n",
      "  inflating: Data/public_dataset_acc_walking/acc_walking_forearm.csv  \n",
      "  inflating: Data/public_dataset_acc_walking/acc_walking_head.csv  \n",
      "  inflating: Data/public_dataset_acc_walking/acc_walking_shin.csv  \n",
      "  inflating: Data/public_dataset_acc_walking/acc_walking_thigh.csv  \n",
      "  inflating: Data/public_dataset_acc_walking/acc_walking_upperarm.csv  \n",
      "  inflating: Data/public_dataset_acc_walking/acc_walking_waist.csv  \n",
      "  inflating: Data/public_dataset_acc_walking/readMe  \n"
     ]
    }
   ],
   "source": [
    "!unzip Data/acc_walking_csv.zip -d Data/public_dataset_acc_walking\n"
   ]
  },
  {
   "cell_type": "code",
   "execution_count": null,
   "id": "cac18d98-c5c2-41d4-9926-75e654c74c03",
   "metadata": {},
   "outputs": [],
   "source": []
  },
  {
   "cell_type": "code",
   "execution_count": null,
   "id": "8c2b5578-e29d-4106-9bab-5973c8f30147",
   "metadata": {},
   "outputs": [],
   "source": [
    "\n"
   ]
  },
  {
   "cell_type": "code",
   "execution_count": null,
   "id": "748d30e3-316c-4e08-9262-5f91f8e35ef7",
   "metadata": {},
   "outputs": [],
   "source": [
    "\n"
   ]
  },
  {
   "cell_type": "code",
   "execution_count": null,
   "id": "1a9e1120-1e8f-464e-a0dd-f422f288faa9",
   "metadata": {},
   "outputs": [],
   "source": []
  }
 ],
 "metadata": {
  "kernelspec": {
   "display_name": "Python 3 (ipykernel)",
   "language": "python",
   "name": "python3"
  },
  "language_info": {
   "codemirror_mode": {
    "name": "ipython",
    "version": 3
   },
   "file_extension": ".py",
   "mimetype": "text/x-python",
   "name": "python",
   "nbconvert_exporter": "python",
   "pygments_lexer": "ipython3",
   "version": "3.8.10"
  }
 },
 "nbformat": 4,
 "nbformat_minor": 5
}
