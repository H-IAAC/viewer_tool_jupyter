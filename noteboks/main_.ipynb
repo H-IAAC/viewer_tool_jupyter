{
 "cells": [
  {
   "cell_type": "code",
   "execution_count": 1,
   "id": "46f6a554-a32b-4e4b-af2d-29ab41f8fc9b",
   "metadata": {},
   "outputs": [],
   "source": [
    "REPO_ROOT_DIR=\"../\"\n",
    "import sys,os\n",
    "sys.path.append(os.path.dirname(REPO_ROOT_DIR))\n",
    "from librepo.dinamic_graph import LinearPlot\n",
    "from librepo.dashboard import DashboardApp\n",
    "from librepo.layout import VerticalLayout,HorizontalLayout\n",
    "import pandas as pd\n"
   ]
  },
  {
   "cell_type": "code",
   "execution_count": 5,
   "id": "518d7b04-844e-4580-8893-bd71cbfca945",
   "metadata": {
    "scrolled": true
   },
   "outputs": [
    {
     "data": {
      "text/html": [
       "<div>\n",
       "<style scoped>\n",
       "    .dataframe tbody tr th:only-of-type {\n",
       "        vertical-align: middle;\n",
       "    }\n",
       "\n",
       "    .dataframe tbody tr th {\n",
       "        vertical-align: top;\n",
       "    }\n",
       "\n",
       "    .dataframe thead th {\n",
       "        text-align: right;\n",
       "    }\n",
       "</style>\n",
       "<table border=\"1\" class=\"dataframe\">\n",
       "  <thead>\n",
       "    <tr style=\"text-align: right;\">\n",
       "      <th></th>\n",
       "      <th>id</th>\n",
       "      <th>attr_time</th>\n",
       "      <th>attr_x</th>\n",
       "      <th>attr_y</th>\n",
       "      <th>attr_z</th>\n",
       "      <th>VideoTimelapse</th>\n",
       "      <th>sec</th>\n",
       "    </tr>\n",
       "  </thead>\n",
       "  <tbody>\n",
       "    <tr>\n",
       "      <th>0</th>\n",
       "      <td>1</td>\n",
       "      <td>1435994343812</td>\n",
       "      <td>0.223259</td>\n",
       "      <td>10.213664</td>\n",
       "      <td>0.574010</td>\n",
       "      <td>0</td>\n",
       "      <td>0.000</td>\n",
       "    </tr>\n",
       "    <tr>\n",
       "      <th>1</th>\n",
       "      <td>2</td>\n",
       "      <td>1435994343834</td>\n",
       "      <td>0.271742</td>\n",
       "      <td>10.207081</td>\n",
       "      <td>0.578798</td>\n",
       "      <td>22</td>\n",
       "      <td>0.022</td>\n",
       "    </tr>\n",
       "    <tr>\n",
       "      <th>2</th>\n",
       "      <td>3</td>\n",
       "      <td>1435994343853</td>\n",
       "      <td>0.282516</td>\n",
       "      <td>10.186132</td>\n",
       "      <td>0.550666</td>\n",
       "      <td>41</td>\n",
       "      <td>0.041</td>\n",
       "    </tr>\n",
       "    <tr>\n",
       "      <th>3</th>\n",
       "      <td>4</td>\n",
       "      <td>1435994343878</td>\n",
       "      <td>0.278326</td>\n",
       "      <td>10.200497</td>\n",
       "      <td>0.563236</td>\n",
       "      <td>66</td>\n",
       "      <td>0.066</td>\n",
       "    </tr>\n",
       "  </tbody>\n",
       "</table>\n",
       "</div>"
      ],
      "text/plain": [
       "   id      attr_time    attr_x     attr_y    attr_z  VideoTimelapse    sec\n",
       "0   1  1435994343812  0.223259  10.213664  0.574010               0  0.000\n",
       "1   2  1435994343834  0.271742  10.207081  0.578798              22  0.022\n",
       "2   3  1435994343853  0.282516  10.186132  0.550666              41  0.041\n",
       "3   4  1435994343878  0.278326  10.200497  0.563236              66  0.066"
      ]
     },
     "execution_count": 5,
     "metadata": {},
     "output_type": "execute_result"
    }
   ],
   "source": [
    "\n",
    "csv_file_name = \"Data/public_dataset/acc_sitting_csv/acc_sitting_upperarm.csv\"\n",
    "acc_sitting_upperarm = pd.read_csv(csv_file_name)\n",
    "acc_sitting_upperarm.head\n",
    "acc_sitting_upperarm['VideoTimelapse']=[x-acc_sitting_upperarm['attr_time'][0] for x in acc_sitting_upperarm['attr_time']]\n",
    "acc_sitting_upperarm['sec'] = [x / 1000 for x in acc_sitting_upperarm['VideoTimelapse']]\n",
    "acc_sitting_upperarm[0:4]"
   ]
  },
  {
   "cell_type": "code",
   "execution_count": 6,
   "id": "4693ac65-bcb2-41bc-9e6d-926600c1c868",
   "metadata": {},
   "outputs": [],
   "source": [
    "csv_file_name = \"Data/public_dataset/acc_sitting_csv/acc_sitting_shin.csv\"\n",
    "acc_sitting_shin = pd.read_csv(csv_file_name)\n",
    "acc_sitting_shin.head\n",
    "acc_sitting_shin['VideoTimelapse']=[x-acc_sitting_shin['attr_time'][0] for x in acc_sitting_shin['attr_time']]\n",
    "acc_sitting_shin['sec'] = [x / 1000 for x in acc_sitting_shin['VideoTimelapse']]\n",
    "#acc_sitting_shin=acc_sitting_shin"
   ]
  },
  {
   "cell_type": "code",
   "execution_count": null,
   "id": "a0a7f0dc-b591-4376-85d4-d1ac20662cda",
   "metadata": {},
   "outputs": [],
   "source": []
  },
  {
   "cell_type": "code",
   "execution_count": 7,
   "id": "de9e11f4-b7f8-4d97-8bf2-8f961971980c",
   "metadata": {},
   "outputs": [
    {
     "data": {
      "text/html": [
       "\n",
       "        <iframe\n",
       "            width=\"100%\"\n",
       "            height=\"650\"\n",
       "            src=\"http://127.0.0.1:8997/\"\n",
       "            frameborder=\"0\"\n",
       "            allowfullscreen\n",
       "            \n",
       "        ></iframe>\n",
       "        "
      ],
      "text/plain": [
       "<IPython.lib.display.IFrame at 0x7f2428647940>"
      ]
     },
     "metadata": {},
     "output_type": "display_data"
    }
   ],
   "source": [
    "\n",
    "if __name__ == '__main__':\n",
    "    app = DashboardApp()\n",
    "    \n",
    "    player = app.add_videoplayer(id='video7', video_path='../noteboks/Data/public_dataset/video_sitting.webm',\n",
    "                                  controls=True, playing=False, loop=False, volume=0.0, width=\"100%\", height=\"200%\",\n",
    "                                  intervalCurrentTime=1000)\n",
    "    \n",
    "    acc_sitting_upperarm = LinearPlot(data_df=acc_sitting_upperarm, x_col='sec', y_cols=['attr_x', 'attr_y', 'attr_z'],\n",
    "                                       max_points=50, id='linear-plot',title='acc sitting upperarm')\n",
    "    \n",
    "    acc_sitting_shin = LinearPlot(data_df=acc_sitting_shin, x_col='sec', y_cols=['attr_x', 'attr_y', 'attr_z'],\n",
    "                                   max_points=50, id='acc_sitting_shin',title='acc sitting shin')\n",
    "    \n",
    "    vertical_layout = VerticalLayout()\n",
    "    vertical_layout.append(acc_sitting_shin)\n",
    "    vertical_layout.append(acc_sitting_upperarm)\n",
    "    \n",
    "    horizontal_layout = HorizontalLayout()\n",
    "    horizontal_layout.append(player)\n",
    "    horizontal_layout.append(vertical_layout)\n",
    "    \n",
    "    app.add_component(horizontal_layout)\n",
    "    \n",
    "    # Registrar eventos y callbacks\n",
    "    app.linear_register_callbacks(acc_sitting_shin)\n",
    "    app.add_callback_click_graph_seekTo_video(acc_sitting_shin, player)\n",
    "    app.add_callback_timestamp_video_verticalline_graph(acc_sitting_shin, player)\n",
    "   \n",
    "    app.linear_register_callbacks(acc_sitting_upperarm)\n",
    "    app.add_callback_timestamp_video_verticalline_graph(acc_sitting_upperarm, player)\n",
    "    #app.add_callback_click_graph_seekTo_video([acc_sitting_upperarm,acc_sitting_shin], player)\n",
    "    \n",
    "    app.run()\n"
   ]
  },
  {
   "cell_type": "code",
   "execution_count": null,
   "id": "b74b7e59-28c5-41dd-8ec0-9ee8b2ed3404",
   "metadata": {},
   "outputs": [],
   "source": []
  },
  {
   "cell_type": "code",
   "execution_count": null,
   "id": "c229c65c-2ba1-43f3-85a3-45f02aa34e01",
   "metadata": {},
   "outputs": [],
   "source": []
  },
  {
   "cell_type": "code",
   "execution_count": null,
   "id": "02c80e4d-1704-40d5-a42f-f6c8f2d62a57",
   "metadata": {},
   "outputs": [],
   "source": []
  }
 ],
 "metadata": {
  "kernelspec": {
   "display_name": "Python 3 (ipykernel)",
   "language": "python",
   "name": "python3"
  },
  "language_info": {
   "codemirror_mode": {
    "name": "ipython",
    "version": 3
   },
   "file_extension": ".py",
   "mimetype": "text/x-python",
   "name": "python",
   "nbconvert_exporter": "python",
   "pygments_lexer": "ipython3",
   "version": "3.8.10"
  }
 },
 "nbformat": 4,
 "nbformat_minor": 5
}
