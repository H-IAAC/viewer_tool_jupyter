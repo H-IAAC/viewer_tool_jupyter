{
 "cells": [
  {
   "cell_type": "code",
   "execution_count": 1,
   "id": "46f6a554-a32b-4e4b-af2d-29ab41f8fc9b",
   "metadata": {},
   "outputs": [],
   "source": [
    "REPO_ROOT_DIR=\"../\"\n",
    "import sys,os\n",
    "sys.path.append(os.path.dirname(REPO_ROOT_DIR))\n",
    "from librepo.dinamic_graph import LinearPlot\n",
    "from librepo.dashboard import DashboardApp\n",
    "import pandas as pd\n"
   ]
  },
  {
   "cell_type": "code",
   "execution_count": 2,
   "id": "de9e11f4-b7f8-4d97-8bf2-8f961971980c",
   "metadata": {},
   "outputs": [
    {
     "data": {
      "text/html": [
       "\n",
       "        <iframe\n",
       "            width=\"100%\"\n",
       "            height=\"650\"\n",
       "            src=\"http://127.0.0.1:3895/\"\n",
       "            frameborder=\"0\"\n",
       "            allowfullscreen\n",
       "            \n",
       "        ></iframe>\n",
       "        "
      ],
      "text/plain": [
       "<IPython.lib.display.IFrame at 0x7f94789afb80>"
      ]
     },
     "metadata": {},
     "output_type": "display_data"
    }
   ],
   "source": [
    "if __name__ == '__main__':\n",
    "    app = DashboardApp()   \n",
    "        \n",
    "    player=app.add_videoplayer( id='video7',video_path='../noteboks/Data/HIAAC4/Carlos/ALL/VID_20230302_111802.mp4',controls=True,playing=False,loop=False,\n",
    "            volume=0.0, width=\"80%\", height=\"100%\",style={\"border\": \"1px solid black\"},\n",
    "            currentTime=10,secondsLoaded=30,duration=120, intervalCurrentTime=60,\n",
    "            intervalSecondsLoaded=1000,intervalDuration=1000,seekTo=0)\n",
    "\n",
    "    csv_file_name = \"Data/HIAAC4/Borin/ALL/Accelerometer_Bolso Direito.csv\"\n",
    "    data_acc_bolso_direito = pd.read_csv(csv_file_name)\n",
    "    data_acc_bolso_direito['sec'] = [x / 1000 for x in data_acc_bolso_direito['VideoTimelapse']]\n",
    "    \n",
    "   \n",
    "    linear_plot = LinearPlot(data_df=data_acc_bolso_direito,     x_col='sec',    y_cols=['Value 1', 'Value 2','Value 3'],\n",
    "    max_points=50,id='linear-plot' )\n",
    "    app.add_component(linear_plot.layout, orientation='horizontal',width='50%',height='30%')\n",
    "    app.linear_register_callbacks(linear_plot)\n",
    "    \n",
    "    app.add_callback_click_graph_seekTo_video(linear_plot,player)\n",
    "    app.add_callback_timestamp_video_verticalline_graph(linear_plot,player)\n",
    "    \n",
    "    app.run()\n"
   ]
  }
 ],
 "metadata": {
  "kernelspec": {
   "display_name": "Python 3 (ipykernel)",
   "language": "python",
   "name": "python3"
  },
  "language_info": {
   "codemirror_mode": {
    "name": "ipython",
    "version": 3
   },
   "file_extension": ".py",
   "mimetype": "text/x-python",
   "name": "python",
   "nbconvert_exporter": "python",
   "pygments_lexer": "ipython3",
   "version": "3.8.10"
  }
 },
 "nbformat": 4,
 "nbformat_minor": 5
}
