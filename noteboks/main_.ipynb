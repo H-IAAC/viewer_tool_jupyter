{
 "cells": [
  {
   "cell_type": "code",
   "execution_count": null,
   "id": "46f6a554-a32b-4e4b-af2d-29ab41f8fc9b",
   "metadata": {},
   "outputs": [],
   "source": [
    "REPO_ROOT_DIR=\"../\"\n",
    "import sys,os\n",
    "sys.path.append(os.path.dirname(REPO_ROOT_DIR))\n",
    "import pandas as pd\n",
    "\n",
    "from librepo.controller import Controller\n",
    "from librepo.dashboard import DashboardApp\n",
    "from librepo.dinamic_graph import LinearPlot\n",
    "from librepo.layouts import HorizontalLayout\n",
    "from librepo.video import VideoPlayer"
   ]
  },
  {
   "cell_type": "code",
   "execution_count": null,
   "id": "518d7b04-844e-4580-8893-bd71cbfca945",
   "metadata": {
    "scrolled": true
   },
   "outputs": [],
   "source": [
    "\n",
    "csv_file_name = \"Data/public_dataset/acc_sitting_csv/acc_sitting_upperarm.csv\"\n",
    "acc_sitting_upperarm = pd.read_csv(csv_file_name)\n",
    "acc_sitting_upperarm.head\n",
    "acc_sitting_upperarm['VideoTimelapse']=[x-acc_sitting_upperarm['attr_time'][0] for x in acc_sitting_upperarm['attr_time']]\n",
    "acc_sitting_upperarm['sec'] = [x / 1000 for x in acc_sitting_upperarm['VideoTimelapse']]\n",
    "acc_sitting_upperarm[0:4]"
   ]
  },
  {
   "cell_type": "code",
   "execution_count": null,
   "id": "4693ac65-bcb2-41bc-9e6d-926600c1c868",
   "metadata": {},
   "outputs": [],
   "source": [
    "csv_file_name = \"Data/public_dataset/acc_sitting_csv/acc_sitting_shin.csv\"\n",
    "acc_sitting_shin = pd.read_csv(csv_file_name)\n",
    "acc_sitting_shin.head\n",
    "acc_sitting_shin['VideoTimelapse']=[x-acc_sitting_shin['attr_time'][0] for x in acc_sitting_shin['attr_time']]\n",
    "acc_sitting_shin['sec'] = [x / 1000 for x in acc_sitting_shin['VideoTimelapse']]\n",
    "#acc_sitting_shin=acc_sitting_shin"
   ]
  },
  {
   "cell_type": "code",
   "execution_count": null,
   "id": "de9e11f4-b7f8-4d97-8bf2-8f961971980c",
   "metadata": {},
   "outputs": [],
   "source": [
    "app = DashboardApp()\n",
    "\n",
    "player = VideoPlayer(\n",
    "    app,\n",
    "    video_path=\"../noteboks/Data/public_dataset/video_sitting.webm\",\n",
    "    volume=0.0,\n",
    ")\n",
    "controller = Controller(app)\n",
    "controller.connectToVideo(player)\n",
    "\n",
    "acc_sitting_upperarm = LinearPlot(\n",
    "    app,\n",
    "    data_df=acc_sitting_upperarm,\n",
    "    x_col=\"sec\",\n",
    "    y_cols=[\"attr_x\", \"attr_y\", \"attr_z\"],\n",
    "    max_points=50,\n",
    "    id=\"linear-plot\",\n",
    "    title=\"acc sitting upperarm\",\n",
    ")\n",
    "\n",
    "acc_sitting_shin = LinearPlot(\n",
    "    app,\n",
    "    data_df=acc_sitting_shin,\n",
    "    x_col=\"sec\",\n",
    "    y_cols=[\"attr_x\", \"attr_y\", \"attr_z\"],\n",
    "    max_points=50,\n",
    "    id=\"acc_sitting_shin\",\n",
    "    title=\"acc sitting shin\",\n",
    ")\n",
    "\n",
    "controller.addGraph(acc_sitting_upperarm)\n",
    "controller.addGraph(acc_sitting_shin)\n",
    "\n",
    "horizontal_layout = HorizontalLayout()\n",
    "horizontal_layout.append(player)\n",
    "horizontal_layout.append(controller)\n",
    "\n",
    "app.add_component(horizontal_layout)\n",
    "\n",
    "app.run()"
   ]
  }
 ],
 "metadata": {
  "kernelspec": {
   "display_name": "Python 3 (ipykernel)",
   "language": "python",
   "name": "python3"
  },
  "language_info": {
   "codemirror_mode": {
    "name": "ipython",
    "version": 3
   },
   "file_extension": ".py",
   "mimetype": "text/x-python",
   "name": "python",
   "nbconvert_exporter": "python",
   "pygments_lexer": "ipython3",
   "version": "3.10.12"
  }
 },
 "nbformat": 4,
 "nbformat_minor": 5
}
