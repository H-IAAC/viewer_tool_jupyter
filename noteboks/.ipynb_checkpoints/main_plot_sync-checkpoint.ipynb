{
 "cells": [
  {
   "cell_type": "code",
   "execution_count": 1,
   "id": "cd611f96-62c1-4302-87e2-24fbad57bee9",
   "metadata": {},
   "outputs": [],
   "source": [
    "#pip3 install ipywidgets --upgrade"
   ]
  },
  {
   "cell_type": "code",
   "execution_count": 2,
   "id": "53c06d79-d2f4-417b-b611-291e16857550",
   "metadata": {},
   "outputs": [],
   "source": [
    "import pandas as pd\n",
    "import plotly.express as px\n",
    "import plotly.graph_objects as go\n",
    "from plotly.subplots import make_subplots\n",
    "from librepo.viewer_tool import ViewerTool\n",
    "vt = ViewerTool()\n",
    "\n",
    "def get_data(exp,user,activity,sensor,position):\n",
    "    #url = \"data/exp_0/users/%s/%s_%s.csv\"%(user,sensor,position)\n",
    "    df = vt.get_csv(exp, activity,user, sensor+'_'+position+'.csv')\n",
    "    #print(url)\n",
    "    #df = pd.read_csv(url)\n",
    "    print(df.columns)\n",
    "    return df\n",
    "\n",
    "def get_chart(dataset,fig,row):\n",
    "    fig.add_trace(go.Scatter(x=dataset['Timestamp'], y=dataset['Value 1'],mode='lines'),row=row, col=1)\n",
    "    fig.add_trace(go.Scatter(x=dataset['Timestamp'], y=dataset['Value 2'],mode='lines'),row=row, col=1)\n",
    "    fig.add_trace(go.Scatter(x=dataset['Timestamp'], y=dataset['Value 3'],mode='lines'),row=row, col=1)\n",
    "    return fig\n",
    "\n",
    "def add_line_change_activites(f,change_activies):\n",
    "    for time_activity in change_activies:\n",
    "        f.add_vline(x=time_activity,line_width=1, line_dash=\"dash\", line_color=\"green\")\n",
    "    return f\n",
    "\n",
    "def create_figs(exp,user,activity,sensors,positions):   \n",
    "    fig = make_subplots(rows=2, cols=1, shared_xaxes=True)\n",
    "    for row,position in enumerate(positions,start=1):\n",
    "        df= get_data(exp,user,activity,sensors,position)\n",
    "        get_chart(df,fig,row)\n",
    "\n",
    "    fig.update_layout(\n",
    "            width=800,\n",
    "            height=400,\n",
    "        )  \n",
    "    return fig\n",
    "\n",
    "\n",
    "\n",
    "def play_from_file(filename):\n",
    "    html = ''\n",
    "    video = open(filename,'rb').read()\n",
    "    src = 'data:video/mp4;base64,' + b64encode(video).decode()\n",
    "    #html += '<video width=300 controls autoplay loop><source src=\"%s\" type=\"video/mp4\"></video>' % src \n",
    "    \n",
    "    html +=\"\"\"<video width=\"1000\" height=\"600\">\n",
    "                    <source src=\"%s\" type=\"video/mp4\">\n",
    "                    Your browser does not support the video tag.\n",
    "                </video>\"\"\"% src \n",
    "    return html\n",
    "\n",
    "def play_from_url(filename):    \n",
    "    html =\"\"\"<video width=\"1000\" height=\"600\" controls>\n",
    "                    <source src=\"%s\" type=\"video/mp4\">\n",
    "                    Your browser does not support the video tag.\n",
    "                </video>\"\"\"% filename \n",
    "    return html\n",
    "def split_video(url_video,range_split):  \n",
    "   \n",
    "    start_time=range_split[0]*0.01\n",
    "    end_time=range_split[1]*0.01\n",
    "    from moviepy.video.io.ffmpeg_tools import ffmpeg_extract_subclip\n",
    "    ffmpeg_extract_subclip(url_video, start_time, end_time, targetname=\"out.mp4\")\n"
   ]
  },
  {
   "cell_type": "code",
   "execution_count": 3,
   "id": "eb4e0064-71b6-406e-8b25-27f5ad7b61d3",
   "metadata": {},
   "outputs": [
    {
     "name": "stdout",
     "output_type": "stream",
     "text": [
      "Index(['Timestamp', 'Value 1', 'Value 2', 'Value 3'], dtype='object')\n",
      "Index(['Timestamp', 'Value 1', 'Value 2', 'Value 3'], dtype='object')\n"
     ]
    }
   ],
   "source": [
    "experiment='Experimento 01'\n",
    "positions=['Bolso','Braço']\n",
    "user=\"Leandro\"\n",
    "activity=\"sentado&caminhando\"\n",
    "sensors=\"Accelerometer\"\n",
    "change_activies=[10000,20000,30000]\n",
    "filename='VID_20230123_084252.mp4'\n",
    "#video_file_name=\"data/exp_0/users/amparo/WhatsApp Video 2023-01-23 at 7.36.14 AM.mp4\"\n",
    "fig=create_figs(experiment,user,activity,sensors,positions)"
   ]
  },
  {
   "cell_type": "code",
   "execution_count": 6,
   "id": "33ec28cd-d069-4b28-a5ce-afb3840a4e12",
   "metadata": {},
   "outputs": [
    {
     "name": "stdout",
     "output_type": "stream",
     "text": [
      "http://vm.hiaac.ic.unicamp.br:8081/Experimento%2001%20%5Bsentado%26caminhando%5D%20%5BLeandro%5D/VID_20230123_084252.mp4\n"
     ]
    },
    {
     "data": {
      "application/vnd.jupyter.widget-view+json": {
       "model_id": "0f9e50c933994c0b9cb32da96f5247dc",
       "version_major": 2,
       "version_minor": 0
      },
      "text/plain": [
       "VBox(children=(FigureWidget({\n",
       "    'data': [{'mode': 'lines',\n",
       "              'type': 'scatter',\n",
       "              'u…"
      ]
     },
     "execution_count": 6,
     "metadata": {},
     "output_type": "execute_result"
    }
   ],
   "source": [
    "\n",
    "import ipywidgets as widgets\n",
    "from base64 import b64encode\n",
    "\n",
    "\n",
    "# create our callback function\n",
    "out = widgets.Output(layout={'border': '1px solid black'})\n",
    "out.append_stdout('Select the options\\n')\n",
    "#url_video=vt.display_video(experiment, activity, user, filename)\n",
    "#print('url',url_video.value)\n",
    "url_video=vt.get_url_video('Experimento 01', 'sentado&caminhando', 'Leandro', 'VID_20230123_084252.mp4')\n",
    "print(url_video)\n",
    "widget_video = widgets.HTML(play_from_url(url_video))\n",
    "f = go.FigureWidget(fig)\n",
    "add_line_change_activites(f,change_activies)\n",
    "@out.capture()\n",
    "def update_point(xrange,p):\n",
    "    #print(xrange,p)\n",
    "    range_split=p\n",
    "    split_video(url_video,range_split)\n",
    "    widget_video.value=play_from_file(\"out.mp4\")    \n",
    "    \n",
    "\n",
    "f.layout.on_change(update_point, 'xaxis.range')\n",
    "widgets.VBox([f,widget_video,out])\n"
   ]
  },
  {
   "cell_type": "code",
   "execution_count": null,
   "id": "37d94041-c43c-4f39-86bd-4247c15eadc2",
   "metadata": {},
   "outputs": [],
   "source": []
  },
  {
   "cell_type": "code",
   "execution_count": null,
   "id": "8082affe-1e13-431f-9c42-d710292d1654",
   "metadata": {},
   "outputs": [],
   "source": [
    "\n"
   ]
  },
  {
   "cell_type": "code",
   "execution_count": null,
   "id": "ed33af0f-09eb-45ed-bb08-3f55dbe522b8",
   "metadata": {},
   "outputs": [],
   "source": []
  }
 ],
 "metadata": {
  "kernelspec": {
   "display_name": "Python 3 (ipykernel)",
   "language": "python",
   "name": "python3"
  },
  "language_info": {
   "codemirror_mode": {
    "name": "ipython",
    "version": 3
   },
   "file_extension": ".py",
   "mimetype": "text/x-python",
   "name": "python",
   "nbconvert_exporter": "python",
   "pygments_lexer": "ipython3",
   "version": "3.8.10"
  }
 },
 "nbformat": 4,
 "nbformat_minor": 5
}
