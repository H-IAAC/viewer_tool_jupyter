{
 "cells": [
  {
   "cell_type": "code",
   "execution_count": 1,
   "id": "587c1460-7dbb-4464-af3f-8e89b14d12b8",
   "metadata": {},
   "outputs": [],
   "source": [
    "from librepo.viewer_tool import ViewerTool\n",
    "vt = ViewerTool()"
   ]
  },
  {
   "cell_type": "code",
   "execution_count": 2,
   "id": "3ba2bd96-5f30-4117-81e9-3ba1e7bd6b92",
   "metadata": {},
   "outputs": [
    {
     "data": {
      "text/html": [
       "<div>\n",
       "<style scoped>\n",
       "    .dataframe tbody tr th:only-of-type {\n",
       "        vertical-align: middle;\n",
       "    }\n",
       "\n",
       "    .dataframe tbody tr th {\n",
       "        vertical-align: top;\n",
       "    }\n",
       "\n",
       "    .dataframe thead th {\n",
       "        text-align: right;\n",
       "    }\n",
       "</style>\n",
       "<table border=\"1\" class=\"dataframe\">\n",
       "  <thead>\n",
       "    <tr style=\"text-align: right;\">\n",
       "      <th></th>\n",
       "      <th>experiment</th>\n",
       "      <th>user</th>\n",
       "      <th>activity</th>\n",
       "    </tr>\n",
       "  </thead>\n",
       "  <tbody>\n",
       "    <tr>\n",
       "      <th>0</th>\n",
       "      <td>Experimento 01</td>\n",
       "      <td>Leandro</td>\n",
       "      <td>sentado&amp;caminhando</td>\n",
       "    </tr>\n",
       "    <tr>\n",
       "      <th>1</th>\n",
       "      <td>Experimento 02</td>\n",
       "      <td>Saulo</td>\n",
       "      <td>running</td>\n",
       "    </tr>\n",
       "    <tr>\n",
       "      <th>2</th>\n",
       "      <td>exp2</td>\n",
       "      <td>Amparo</td>\n",
       "      <td>sentado&amp;caminhando&amp;pulando</td>\n",
       "    </tr>\n",
       "  </tbody>\n",
       "</table>\n",
       "</div>"
      ],
      "text/plain": [
       "       experiment     user                    activity\n",
       "0  Experimento 01  Leandro          sentado&caminhando\n",
       "1  Experimento 02    Saulo                     running\n",
       "2            exp2   Amparo  sentado&caminhando&pulando"
      ]
     },
     "metadata": {},
     "output_type": "display_data"
    }
   ],
   "source": [
    "experiments = vt.list_experiments()\n",
    "display(experiments)"
   ]
  },
  {
   "cell_type": "code",
   "execution_count": 3,
   "id": "5c06b7a3-9648-4905-80f8-bef89462dcb0",
   "metadata": {},
   "outputs": [
    {
     "data": {
      "text/html": [
       "<div>\n",
       "<style scoped>\n",
       "    .dataframe tbody tr th:only-of-type {\n",
       "        vertical-align: middle;\n",
       "    }\n",
       "\n",
       "    .dataframe tbody tr th {\n",
       "        vertical-align: top;\n",
       "    }\n",
       "\n",
       "    .dataframe thead th {\n",
       "        text-align: right;\n",
       "    }\n",
       "</style>\n",
       "<table border=\"1\" class=\"dataframe\">\n",
       "  <thead>\n",
       "    <tr style=\"text-align: right;\">\n",
       "      <th></th>\n",
       "      <th>Files</th>\n",
       "    </tr>\n",
       "  </thead>\n",
       "  <tbody>\n",
       "    <tr>\n",
       "      <th>0</th>\n",
       "      <td>Leandro_sentado&amp;caminhando_Bolso__20230123.054...</td>\n",
       "    </tr>\n",
       "    <tr>\n",
       "      <th>1</th>\n",
       "      <td>Leandro_sentado&amp;caminhando_Braço__20230123.074...</td>\n",
       "    </tr>\n",
       "    <tr>\n",
       "      <th>2</th>\n",
       "      <td>VID_20230123_084252.mp4</td>\n",
       "    </tr>\n",
       "    <tr>\n",
       "      <th>3</th>\n",
       "      <td>Accelerometer_Bolso.csv</td>\n",
       "    </tr>\n",
       "    <tr>\n",
       "      <th>4</th>\n",
       "      <td>Accelerometer_Braço.csv</td>\n",
       "    </tr>\n",
       "    <tr>\n",
       "      <th>5</th>\n",
       "      <td>Gyroscope_Bolso.csv</td>\n",
       "    </tr>\n",
       "    <tr>\n",
       "      <th>6</th>\n",
       "      <td>Gyroscope_Braço.csv</td>\n",
       "    </tr>\n",
       "    <tr>\n",
       "      <th>7</th>\n",
       "      <td>VID_20230123_084252.mp4</td>\n",
       "    </tr>\n",
       "  </tbody>\n",
       "</table>\n",
       "</div>"
      ],
      "text/plain": [
       "                                               Files\n",
       "0  Leandro_sentado&caminhando_Bolso__20230123.054...\n",
       "1  Leandro_sentado&caminhando_Braço__20230123.074...\n",
       "2                            VID_20230123_084252.mp4\n",
       "3                            Accelerometer_Bolso.csv\n",
       "4                            Accelerometer_Braço.csv\n",
       "5                                Gyroscope_Bolso.csv\n",
       "6                                Gyroscope_Braço.csv\n",
       "7                            VID_20230123_084252.mp4"
      ]
     },
     "metadata": {},
     "output_type": "display_data"
    }
   ],
   "source": [
    "files = vt.list_experiment_files('Experimento 01', 'sentado&caminhando', 'Leandro')\n",
    "display(files)"
   ]
  },
  {
   "cell_type": "code",
   "execution_count": 4,
   "id": "8ff7fcf3-0627-47c0-9471-bb597ec04284",
   "metadata": {},
   "outputs": [
    {
     "data": {
      "text/html": [
       "<div>\n",
       "<style scoped>\n",
       "    .dataframe tbody tr th:only-of-type {\n",
       "        vertical-align: middle;\n",
       "    }\n",
       "\n",
       "    .dataframe tbody tr th {\n",
       "        vertical-align: top;\n",
       "    }\n",
       "\n",
       "    .dataframe thead th {\n",
       "        text-align: right;\n",
       "    }\n",
       "</style>\n",
       "<table border=\"1\" class=\"dataframe\">\n",
       "  <thead>\n",
       "    <tr style=\"text-align: right;\">\n",
       "      <th></th>\n",
       "      <th>Timestamp</th>\n",
       "      <th>Value 1</th>\n",
       "      <th>Value 2</th>\n",
       "      <th>Value 3</th>\n",
       "    </tr>\n",
       "  </thead>\n",
       "  <tbody>\n",
       "    <tr>\n",
       "      <th>0</th>\n",
       "      <td>14</td>\n",
       "      <td>9.201301</td>\n",
       "      <td>-0.163011</td>\n",
       "      <td>2.788237</td>\n",
       "    </tr>\n",
       "    <tr>\n",
       "      <th>1</th>\n",
       "      <td>36</td>\n",
       "      <td>9.232407</td>\n",
       "      <td>-0.146261</td>\n",
       "      <td>2.754737</td>\n",
       "    </tr>\n",
       "    <tr>\n",
       "      <th>2</th>\n",
       "      <td>55</td>\n",
       "      <td>9.232407</td>\n",
       "      <td>-0.084048</td>\n",
       "      <td>2.788237</td>\n",
       "    </tr>\n",
       "    <tr>\n",
       "      <th>3</th>\n",
       "      <td>76</td>\n",
       "      <td>9.225228</td>\n",
       "      <td>-0.057727</td>\n",
       "      <td>2.833700</td>\n",
       "    </tr>\n",
       "    <tr>\n",
       "      <th>4</th>\n",
       "      <td>96</td>\n",
       "      <td>9.251550</td>\n",
       "      <td>-0.036191</td>\n",
       "      <td>2.807379</td>\n",
       "    </tr>\n",
       "    <tr>\n",
       "      <th>...</th>\n",
       "      <td>...</td>\n",
       "      <td>...</td>\n",
       "      <td>...</td>\n",
       "      <td>...</td>\n",
       "    </tr>\n",
       "    <tr>\n",
       "      <th>2979</th>\n",
       "      <td>59731</td>\n",
       "      <td>10.252049</td>\n",
       "      <td>-0.953241</td>\n",
       "      <td>0.588036</td>\n",
       "    </tr>\n",
       "    <tr>\n",
       "      <th>2980</th>\n",
       "      <td>59750</td>\n",
       "      <td>10.479666</td>\n",
       "      <td>-0.831207</td>\n",
       "      <td>0.619143</td>\n",
       "    </tr>\n",
       "    <tr>\n",
       "      <th>2981</th>\n",
       "      <td>59771</td>\n",
       "      <td>11.377274</td>\n",
       "      <td>-0.620339</td>\n",
       "      <td>0.336790</td>\n",
       "    </tr>\n",
       "    <tr>\n",
       "      <th>2982</th>\n",
       "      <td>59790</td>\n",
       "      <td>12.634402</td>\n",
       "      <td>-0.567697</td>\n",
       "      <td>0.018245</td>\n",
       "    </tr>\n",
       "    <tr>\n",
       "      <th>2983</th>\n",
       "      <td>59810</td>\n",
       "      <td>12.981362</td>\n",
       "      <td>-0.708874</td>\n",
       "      <td>-0.170788</td>\n",
       "    </tr>\n",
       "  </tbody>\n",
       "</table>\n",
       "<p>2984 rows × 4 columns</p>\n",
       "</div>"
      ],
      "text/plain": [
       "      Timestamp    Value 1   Value 2   Value 3\n",
       "0            14   9.201301 -0.163011  2.788237\n",
       "1            36   9.232407 -0.146261  2.754737\n",
       "2            55   9.232407 -0.084048  2.788237\n",
       "3            76   9.225228 -0.057727  2.833700\n",
       "4            96   9.251550 -0.036191  2.807379\n",
       "...         ...        ...       ...       ...\n",
       "2979      59731  10.252049 -0.953241  0.588036\n",
       "2980      59750  10.479666 -0.831207  0.619143\n",
       "2981      59771  11.377274 -0.620339  0.336790\n",
       "2982      59790  12.634402 -0.567697  0.018245\n",
       "2983      59810  12.981362 -0.708874 -0.170788\n",
       "\n",
       "[2984 rows x 4 columns]"
      ]
     },
     "metadata": {},
     "output_type": "display_data"
    }
   ],
   "source": [
    "exp='Experimento 01'\n",
    "positions=['Bolso','Braço']\n",
    "user=\"amparo\"\n",
    "sensors=\"Accelerometer\"\n",
    "\n",
    "df = vt.get_csv(exp, 'sentado&caminhando', 'Leandro', 'Accelerometer_Braço.csv')\n",
    "display(df)"
   ]
  },
  {
   "cell_type": "code",
   "execution_count": 5,
   "id": "bea9a45e-fc8e-4f18-b9ea-d4e8817247e8",
   "metadata": {},
   "outputs": [
    {
     "data": {
      "text/html": [
       " <video width=\"100%\" height=\"300px\" controls>\n",
       "                         <source src=http://vm.hiaac.ic.unicamp.br:8081/Experimento%2001%20%5Bsentado%26caminhando%5D%20%5BLeandro%5D/VID_20230123_084252.mp4 type=\"video/mp4\">\n",
       "                         </video>\n",
       "                     "
      ],
      "text/plain": [
       "<IPython.core.display.HTML object>"
      ]
     },
     "metadata": {},
     "output_type": "display_data"
    }
   ],
   "source": [
    "video = vt.display_video('Experimento 01', 'sentado&caminhando', 'Leandro', 'VID_20230123_084252.mp4')\n",
    "display(video)"
   ]
  },
  {
   "cell_type": "code",
   "execution_count": 6,
   "id": "049f4d25-0e68-42ce-8f42-0e4099d0d3eb",
   "metadata": {},
   "outputs": [
    {
     "data": {
      "text/plain": [
       "'http://vm.hiaac.ic.unicamp.br:8081/Experimento%2001%20%5Bsentado%26caminhando%5D%20%5BLeandro%5D/VID_20230123_084252.mp4'"
      ]
     },
     "execution_count": 6,
     "metadata": {},
     "output_type": "execute_result"
    }
   ],
   "source": [
    "vt.get_url_video('Experimento 01', 'sentado&caminhando', 'Leandro', 'VID_20230123_084252.mp4')"
   ]
  },
  {
   "cell_type": "code",
   "execution_count": 7,
   "id": "874c0d55-9d44-4dae-8ddc-ac70ed6975af",
   "metadata": {},
   "outputs": [
    {
     "name": "stdout",
     "output_type": "stream",
     "text": [
      "http://vm.hiaac.ic.unicamp.br:8081/Experimento%2001%20%5Bsentado%26caminhando%5D%20%5BLeandro%5D/VID_20230123_084252.mp4\n"
     ]
    }
   ],
   "source": [
    "test=vt.get_url_video('Experimento 01', 'sentado&caminhando', 'Leandro', 'VID_20230123_084252.mp4')\n",
    "print(test)"
   ]
  },
  {
   "cell_type": "code",
   "execution_count": null,
   "id": "df545937-8ac1-4969-b1b3-0f51c55f1335",
   "metadata": {},
   "outputs": [],
   "source": []
  }
 ],
 "metadata": {
  "kernelspec": {
   "display_name": "Python 3 (ipykernel)",
   "language": "python",
   "name": "python3"
  },
  "language_info": {
   "codemirror_mode": {
    "name": "ipython",
    "version": 3
   },
   "file_extension": ".py",
   "mimetype": "text/x-python",
   "name": "python",
   "nbconvert_exporter": "python",
   "pygments_lexer": "ipython3",
   "version": "3.8.10"
  }
 },
 "nbformat": 4,
 "nbformat_minor": 5
}
