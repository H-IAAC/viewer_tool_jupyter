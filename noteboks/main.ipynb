{
 "cells": [
  {
   "cell_type": "code",
   "execution_count": 1,
   "id": "880e810e-f367-42b3-aedf-1895f8089874",
   "metadata": {},
   "outputs": [
    {
     "data": {
      "text/plain": [
       "<bound method NDFrame.head of        VideoTimelapse      Timestamp   Value 1    Value 2   Value 3\n",
       "0                   1  1677761144769 -0.764050  -0.433650 -9.641749\n",
       "1                  27  1677761144795 -0.766444  -0.424073 -9.644144\n",
       "2                  51  1677761144819 -0.797568  -0.428861 -9.653721\n",
       "3                  77  1677761144845 -0.790386  -0.431256 -9.646538\n",
       "4                 101  1677761144869 -0.795174  -0.438438 -9.663298\n",
       "...               ...            ...       ...        ...       ...\n",
       "15081          377116  1677761521884  3.732261  -9.756671 -2.340332\n",
       "15082          377141  1677761521909  5.377975  -9.445425  1.257554\n",
       "15083          377165  1677761521933  5.799355 -10.331579 -0.155623\n",
       "15084          377191  1677761521959  4.834192 -11.313800 -0.634763\n",
       "15085          377216  1677761521984  2.024297 -10.633548 -1.365293\n",
       "\n",
       "[15086 rows x 5 columns]>"
      ]
     },
     "metadata": {},
     "output_type": "display_data"
    }
   ],
   "source": [
    "# Adicionando o diretório raiz na lista de diretórios para buscar módulos (p.ex: librep)\n",
    "REPO_ROOT_DIR=\"../\"\n",
    "import sys,os\n",
    "sys.path.append(os.path.dirname(REPO_ROOT_DIR))\n",
    "from librepo.viewer_tool import ViewerTool\n",
    "vt = ViewerTool()\n",
    "vt.setup(\"http://vm.hiaac.ic.unicamp.br\", \"8081\")\n",
    "vt.auth('H-IAAC_Elds!')\n",
    "exp='HIAAC4'\n",
    "activity='ALL'\n",
    "user=\"Borin\"\n",
    "df_acc = vt.get_csv(exp, activity, user, 'Accelerometer_Bolso Direito.csv')\n",
    "df_acc = vt.get_csv(exp, activity, user, 'Accelerometer_Bolso Esquerdo.csv')\n",
    "#df_acc=df_acc[0:200]\n",
    "df2_acc=vt.get_csv(exp, activity, user, 'Accelerometer_Bolso Esquerdo.csv')\n",
    "df_acc['sec'] = [x/1000 for x in df_acc['VideoTimelapse']]\n",
    "display(df2_acc.head)"
   ]
  },
  {
   "cell_type": "code",
   "execution_count": 2,
   "id": "431480b9-ceeb-4aa6-a73c-a0aea0dd8ce7",
   "metadata": {},
   "outputs": [
    {
     "name": "stderr",
     "output_type": "stream",
     "text": [
      "/home/amparomunoz/meta_4_4_2/viewer_tool_jupyter/noteboks/../librepo/dashboard.py:2: UserWarning: \n",
      "The dash_html_components package is deprecated. Please replace\n",
      "`import dash_html_components as html` with `from dash import html`\n",
      "  import dash_html_components as html\n"
     ]
    },
    {
     "data": {
      "text/html": [
       "\n",
       "        <iframe\n",
       "            width=\"100%\"\n",
       "            height=\"650\"\n",
       "            src=\"http://172.17.0.2:8039/\"\n",
       "            frameborder=\"0\"\n",
       "            allowfullscreen\n",
       "            \n",
       "        ></iframe>\n",
       "        "
      ],
      "text/plain": [
       "<IPython.lib.display.IFrame at 0x7ff76e85af20>"
      ]
     },
     "metadata": {},
     "output_type": "display_data"
    }
   ],
   "source": [
    "import os\n",
    "\n",
    "import flask\n",
    "from librepo.dashboard import DashboardApp\n",
    "from librepo.video import VideoPlayer\n",
    "from librepo.graph_dinamic import ScatterPlot\n",
    "from librepo.graph_static import MultiTracePlot\n",
    "from librepo.graph_dinamic import LinearPlot\n",
    "from plotly.graph_objs import Scatter\n",
    "\n",
    "import pandas as pd\n",
    "import numpy as np\n",
    "# Example usage:\n",
    "if __name__ == '__main__':\n",
    "    app = DashboardApp()\n",
    "\n",
    "    ### VIDEO\n",
    "    url_path = \"http://127.0.0.1:8888/files/noteboks/Data/HIAAC4/Borin/ALL/20230302_094544.mp4?_xsrf=2%7Ce346787f%7Ce5bc8e78b65a33997a4e8398f47dadeb%7C1690921381\"\n",
    "    video_player = VideoPlayer(id=\"my-video\", url=url_path, playing=True, loop=True, controls=True, volume=0.0, width=\"100%\", height=\"100%\", style={\"border\": \"1px solid black\"}, currentTime=10, secondsLoaded=30, duration=120, intervalCurrentTime=60, intervalSecondsLoaded=1000, intervalDuration=1000, seekTo=60)\n",
    "    app.add_component(video_player, orientation='horizontal',width=\"30%\", height=\"30%\")\n",
    "    video_player.controls=True\n",
    "    video_player.seekTo=2\n",
    "    \n",
    "    ##  SCATTER PLOT \n",
    "    tsne_data = pd.DataFrame(np.random.randn(int(video_player.duration), 2), columns=['x', 'y'])\n",
    "    scatter_plot = ScatterPlot(data=tsne_data, id='plot-tsne')\n",
    "    app.add_component(scatter_plot, orientation='horizontal',width=\"50%\", height=\"30%\")\n",
    "\n",
    "    #EVENTO PARA ATUALIZAR O GRAFICO AO MUDAR O TIMESTAMP DO VIDEO\n",
    "    app.add_callback_video_scatter_update(scatter_plot,video_player) \n",
    "\n",
    "    \n",
    "\n",
    "\n",
    "        # Criação de um objeto LinearPlot com traços iniciais\n",
    "    accX = Scatter(x=df_acc['sec'], y=df_acc['Value 1'], name='trace1')\n",
    "    ## CRIAR UM GRAFICO APARTIR DE UM DATAFRAME \n",
    "    linear_plot = LinearPlot(data=[accX], id='linear-plot')\n",
    "    linear_plot.add_lines_from_df(df_acc,'sec',['Value 2','Value 3'])\n",
    "    \n",
    "    #linear_plot_up = LinearPlot(data=[accX], id='linear-plot_up')\n",
    "    #linear_plot_up.update_graph(0,10)\n",
    "    linear_plot.add_vLine(4)\n",
    "    \n",
    "    ### EVENTO QUE PERMITE ATULIZAR O VIDEO FAZENDO CLIC NA GRAFICA\n",
    "    app.add_callback_video_seekTo_click_graph(video_player,linear_plot)\n",
    "\n",
    "    # Criação de um novo traço para atualização\n",
    "   # updated_trace = Scatter(x=[1, 2, 3], y=[10, 11, 12], name='trace2')\n",
    "\n",
    "    # Atualiza o traço com ID 'trace2'\n",
    "   # linear_plot.update_trace('trace2', updated_trace)\n",
    "\n",
    "\n",
    "    app.add_component(linear_plot, orientation='vertical',width=\"100%\", height=\"30%\") \n",
    "    \n",
    "   # app.add_component(linear_plot_up, orientation='horizontal',width=\"100%\", height=\"30%\") \n",
    "    \n",
    "    \n",
    "    \n",
    "    \n",
    "\n",
    "    # eventos\n",
    "   # \n",
    "      \n",
    "   # \n",
    "   # app.add_callback_graph_update_vLine(linear_plot_up,video_player)\n",
    "    #app.add_callback_video_graph_update(linear_plot,video_player)\n",
    "    \n",
    "    \n",
    "    \n",
    "\n",
    "\n",
    "    \n",
    "\n",
    "    app.run(host=\"172.17.0.2\", port=8039)\n"
   ]
  },
  {
   "cell_type": "code",
   "execution_count": null,
   "id": "775f8941-0b63-4592-82cd-3a32c9782eed",
   "metadata": {},
   "outputs": [],
   "source": []
  }
 ],
 "metadata": {
  "kernelspec": {
   "display_name": "Python 3 (ipykernel)",
   "language": "python",
   "name": "python3"
  },
  "language_info": {
   "codemirror_mode": {
    "name": "ipython",
    "version": 3
   },
   "file_extension": ".py",
   "mimetype": "text/x-python",
   "name": "python",
   "nbconvert_exporter": "python",
   "pygments_lexer": "ipython3",
   "version": "3.10.10"
  }
 },
 "nbformat": 4,
 "nbformat_minor": 5
}
