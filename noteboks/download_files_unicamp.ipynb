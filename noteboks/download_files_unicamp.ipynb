{
 "cells": [
  {
   "cell_type": "code",
   "execution_count": 1,
   "id": "587c1460-7dbb-4464-af3f-8e89b14d12b8",
   "metadata": {},
   "outputs": [],
   "source": [
    "import sys\n",
    "import os\n",
    "from IPython.display import Javascript\n",
    "\n",
    "# Adicionando o diretório raiz na lista de diretórios para buscar módulos (p.ex: librep)\n",
    "REPO_ROOT_DIR=\"../\"\n",
    "sys.path.append(os.path.dirname(REPO_ROOT_DIR))\n",
    "from librepo.viewer_tool import ViewerTool\n",
    "vt = ViewerTool()"
   ]
  },
  {
   "cell_type": "code",
   "execution_count": 2,
   "id": "056e499f",
   "metadata": {},
   "outputs": [
    {
     "data": {
      "text/plain": [
       "True"
      ]
     },
     "execution_count": 2,
     "metadata": {},
     "output_type": "execute_result"
    }
   ],
   "source": [
    "vt.setup(\"http://192.168.1.162\", \"8080\")\n",
    "\n",
    "vt.auth('eldorado')"
   ]
  },
  {
   "cell_type": "code",
   "execution_count": 3,
   "id": "08cf8c4e-10f9-4668-9bd0-1a9b784c0b30",
   "metadata": {},
   "outputs": [
    {
     "data": {
      "text/html": [
       "<div>\n",
       "<style scoped>\n",
       "    .dataframe tbody tr th:only-of-type {\n",
       "        vertical-align: middle;\n",
       "    }\n",
       "\n",
       "    .dataframe tbody tr th {\n",
       "        vertical-align: top;\n",
       "    }\n",
       "\n",
       "    .dataframe thead th {\n",
       "        text-align: right;\n",
       "    }\n",
       "</style>\n",
       "<table border=\"1\" class=\"dataframe\">\n",
       "  <thead>\n",
       "    <tr style=\"text-align: right;\">\n",
       "      <th></th>\n",
       "      <th>experiment</th>\n",
       "      <th>user</th>\n",
       "      <th>activity</th>\n",
       "      <th>csv_count</th>\n",
       "      <th>video</th>\n",
       "    </tr>\n",
       "  </thead>\n",
       "  <tbody>\n",
       "    <tr>\n",
       "      <th>0</th>\n",
       "      <td>29elev3</td>\n",
       "      <td>01</td>\n",
       "      <td>all</td>\n",
       "      <td>15</td>\n",
       "      <td>video_3290301394094329100.mp4</td>\n",
       "    </tr>\n",
       "    <tr>\n",
       "      <th>1</th>\n",
       "      <td>TS001</td>\n",
       "      <td>01</td>\n",
       "      <td>all</td>\n",
       "      <td>20</td>\n",
       "      <td>none</td>\n",
       "    </tr>\n",
       "    <tr>\n",
       "      <th>2</th>\n",
       "      <td>pretesteelev</td>\n",
       "      <td>01</td>\n",
       "      <td>all</td>\n",
       "      <td>0</td>\n",
       "      <td>none</td>\n",
       "    </tr>\n",
       "    <tr>\n",
       "      <th>3</th>\n",
       "      <td>pretesteelev2</td>\n",
       "      <td>01</td>\n",
       "      <td>all2</td>\n",
       "      <td>15</td>\n",
       "      <td>video_8710996766432314030.mp4</td>\n",
       "    </tr>\n",
       "    <tr>\n",
       "      <th>4</th>\n",
       "      <td>test</td>\n",
       "      <td>a</td>\n",
       "      <td>a</td>\n",
       "      <td>20</td>\n",
       "      <td>none</td>\n",
       "    </tr>\n",
       "    <tr>\n",
       "      <th>5</th>\n",
       "      <td>test1</td>\n",
       "      <td>1</td>\n",
       "      <td>all</td>\n",
       "      <td>15</td>\n",
       "      <td>video_722591335043965806.mp4</td>\n",
       "    </tr>\n",
       "  </tbody>\n",
       "</table>\n",
       "</div>"
      ],
      "text/plain": [
       "      experiment user activity  csv_count                          video\n",
       "0        29elev3   01      all         15  video_3290301394094329100.mp4\n",
       "1          TS001   01      all         20                           none\n",
       "2   pretesteelev   01      all          0                           none\n",
       "3  pretesteelev2   01     all2         15  video_8710996766432314030.mp4\n",
       "4           test    a        a         20                           none\n",
       "5          test1    1      all         15   video_722591335043965806.mp4"
      ]
     },
     "metadata": {},
     "output_type": "display_data"
    }
   ],
   "source": [
    "experiments = vt.list_experiments()\n",
    "display(experiments)"
   ]
  },
  {
   "cell_type": "code",
   "execution_count": 4,
   "id": "cac18d98-c5c2-41d4-9926-75e654c74c03",
   "metadata": {},
   "outputs": [],
   "source": [
    "## todos os arquivos\n",
    "exp='TS001'\n",
    "activity='all'\n",
    "user=\"01\"\n"
   ]
  },
  {
   "cell_type": "code",
   "execution_count": 7,
   "id": "8c2b5578-e29d-4106-9bab-5973c8f30147",
   "metadata": {},
   "outputs": [
    {
     "name": "stdout",
     "output_type": "stream",
     "text": [
      "01_TS001_all_Anotador__20240502.095211.zip\n",
      "Saving 01_TS001_all_Anotador__20240502.095211.zip to ./Data/TS001/01/all/01_TS001_all_Anotador__20240502.095211.zip\n"
     ]
    },
    {
     "data": {
      "application/vnd.jupyter.widget-view+json": {
       "model_id": "04eb48af5a0d4b00a09209b906ad843b",
       "version_major": 2,
       "version_minor": 0
      },
      "text/plain": [
       "  0%|          | 0/6340034 [00:00<?, ?it/s]"
      ]
     },
     "metadata": {},
     "output_type": "display_data"
    },
    {
     "name": "stdout",
     "output_type": "stream",
     "text": [
      "01_TS001_all_Bolso Direito__20240502.095213.zip\n",
      "Saving 01_TS001_all_Bolso Direito__20240502.095213.zip to ./Data/TS001/01/all/01_TS001_all_Bolso Direito__20240502.095213.zip\n"
     ]
    },
    {
     "data": {
      "application/vnd.jupyter.widget-view+json": {
       "model_id": "160b94ed9ab94096b92f7dba83dd404b",
       "version_major": 2,
       "version_minor": 0
      },
      "text/plain": [
       "  0%|          | 0/6790273 [00:00<?, ?it/s]"
      ]
     },
     "metadata": {},
     "output_type": "display_data"
    },
    {
     "name": "stdout",
     "output_type": "stream",
     "text": [
      "01_TS001_all_Bolso Esquerdo__20240502.095214.zip\n",
      "Saving 01_TS001_all_Bolso Esquerdo__20240502.095214.zip to ./Data/TS001/01/all/01_TS001_all_Bolso Esquerdo__20240502.095214.zip\n"
     ]
    },
    {
     "data": {
      "application/vnd.jupyter.widget-view+json": {
       "model_id": "7dca204234df4e96a37836e6a35a6c9d",
       "version_major": 2,
       "version_minor": 0
      },
      "text/plain": [
       "  0%|          | 0/6825912 [00:00<?, ?it/s]"
      ]
     },
     "metadata": {},
     "output_type": "display_data"
    },
    {
     "name": "stdout",
     "output_type": "stream",
     "text": [
      "01_TS001_all_Mochila__20240502.095214.zip\n",
      "Saving 01_TS001_all_Mochila__20240502.095214.zip to ./Data/TS001/01/all/01_TS001_all_Mochila__20240502.095214.zip\n"
     ]
    },
    {
     "data": {
      "application/vnd.jupyter.widget-view+json": {
       "model_id": "20528755c2134029bf319a9c4511e8a8",
       "version_major": 2,
       "version_minor": 0
      },
      "text/plain": [
       "  0%|          | 0/6600376 [00:00<?, ?it/s]"
      ]
     },
     "metadata": {},
     "output_type": "display_data"
    },
    {
     "name": "stdout",
     "output_type": "stream",
     "text": [
      "01_TS001_all_Mão Direita__20240502.095215.zip\n",
      "Saving 01_TS001_all_Mão Direita__20240502.095215.zip to ./Data/TS001/01/all/01_TS001_all_Mão Direita__20240502.095215.zip\n"
     ]
    },
    {
     "data": {
      "application/vnd.jupyter.widget-view+json": {
       "model_id": "6daafed7512644b5b06bbbdd2e8ccd09",
       "version_major": 2,
       "version_minor": 0
      },
      "text/plain": [
       "  0%|          | 0/6839865 [00:00<?, ?it/s]"
      ]
     },
     "metadata": {},
     "output_type": "display_data"
    },
    {
     "name": "stdout",
     "output_type": "stream",
     "text": [
      "Accelerometer_Anotador.csv\n",
      "Accelerometer_Bolso Direito.csv\n",
      "Accelerometer_Bolso Esquerdo.csv\n",
      "Accelerometer_Mochila.csv\n",
      "Accelerometer_Mão Direita.csv\n",
      "Gyroscope_Anotador.csv\n",
      "Gyroscope_Bolso Direito.csv\n",
      "Gyroscope_Bolso Esquerdo.csv\n",
      "Gyroscope_Mochila.csv\n",
      "Gyroscope_Mão Direita.csv\n",
      "LinearAccelerometer_Anotador.csv\n",
      "LinearAccelerometer_Bolso Direito.csv\n",
      "LinearAccelerometer_Bolso Esquerdo.csv\n",
      "LinearAccelerometer_Mochila.csv\n",
      "LinearAccelerometer_Mão Direita.csv\n",
      "MagneticField_Anotador.csv\n",
      "MagneticField_Bolso Direito.csv\n",
      "MagneticField_Bolso Esquerdo.csv\n",
      "MagneticField_Mochila.csv\n",
      "MagneticField_Mão Direita.csv\n"
     ]
    }
   ],
   "source": [
    "video = vt.display_video(exp, activity, user)\n",
    "\n",
    "files_ = vt.list_experiment_files(exp, activity, user, False)\n",
    "\n",
    "for indice, file in files_.iterrows():\n",
    "    print(file['Files'])\n",
    "    df = vt.get_csv(exp, activity, user, file['Files'])"
   ]
  },
  {
   "cell_type": "code",
   "execution_count": 6,
   "id": "748d30e3-316c-4e08-9262-5f91f8e35ef7",
   "metadata": {},
   "outputs": [
    {
     "data": {
      "text/html": [
       " <video width=\"100%\" height=\"300px\" controls>\n",
       "                         <source src=No video found. type=\"video/mp4\">\n",
       "                         </video>\n",
       "                     "
      ],
      "text/plain": [
       "<IPython.core.display.HTML object>"
      ]
     },
     "metadata": {},
     "output_type": "display_data"
    }
   ],
   "source": [
    "display(video)"
   ]
  },
  {
   "cell_type": "code",
   "execution_count": null,
   "id": "1a9e1120-1e8f-464e-a0dd-f422f288faa9",
   "metadata": {},
   "outputs": [],
   "source": []
  }
 ],
 "metadata": {
  "kernelspec": {
   "display_name": "Python 3 (ipykernel)",
   "language": "python",
   "name": "python3"
  },
  "language_info": {
   "codemirror_mode": {
    "name": "ipython",
    "version": 3
   },
   "file_extension": ".py",
   "mimetype": "text/x-python",
   "name": "python",
   "nbconvert_exporter": "python",
   "pygments_lexer": "ipython3",
   "version": "3.10.13"
  }
 },
 "nbformat": 4,
 "nbformat_minor": 5
}
